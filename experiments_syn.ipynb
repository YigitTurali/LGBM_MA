{
 "cells": [
  {
   "cell_type": "code",
   "execution_count": 1,
   "metadata": {},
   "outputs": [],
   "source": [
    "import pandas as pd\n",
    "import numpy as np\n",
    "from sklearn.tree import DecisionTreeRegressor \n",
    "from sklearn.metrics import mean_squared_error as mse\n",
    "from sklearn.metrics import mean_absolute_error as mae"
   ]
  },
  {
   "cell_type": "code",
   "execution_count": 2,
   "metadata": {},
   "outputs": [],
   "source": [
    "df = pd.read_csv(\"Dataset/syntetic/last.csv\")\n",
    "df = df.drop(\"Unnamed: 0\",axis=1)"
   ]
  },
  {
   "cell_type": "code",
   "execution_count": 3,
   "metadata": {},
   "outputs": [
    {
     "data": {
      "text/html": [
       "<div>\n",
       "<style scoped>\n",
       "    .dataframe tbody tr th:only-of-type {\n",
       "        vertical-align: middle;\n",
       "    }\n",
       "\n",
       "    .dataframe tbody tr th {\n",
       "        vertical-align: top;\n",
       "    }\n",
       "\n",
       "    .dataframe thead th {\n",
       "        text-align: right;\n",
       "    }\n",
       "</style>\n",
       "<table border=\"1\" class=\"dataframe\">\n",
       "  <thead>\n",
       "    <tr style=\"text-align: right;\">\n",
       "      <th></th>\n",
       "      <th>y</th>\n",
       "      <th>y-1</th>\n",
       "      <th>e-1</th>\n",
       "      <th>y-2</th>\n",
       "      <th>e-2</th>\n",
       "    </tr>\n",
       "  </thead>\n",
       "  <tbody>\n",
       "    <tr>\n",
       "      <th>0</th>\n",
       "      <td>0.041868</td>\n",
       "      <td>0.088594</td>\n",
       "      <td>-0.003596</td>\n",
       "      <td>-0.001430</td>\n",
       "      <td>-0.042699</td>\n",
       "    </tr>\n",
       "    <tr>\n",
       "      <th>1</th>\n",
       "      <td>0.155007</td>\n",
       "      <td>0.041868</td>\n",
       "      <td>0.019511</td>\n",
       "      <td>0.088594</td>\n",
       "      <td>-0.003596</td>\n",
       "    </tr>\n",
       "    <tr>\n",
       "      <th>2</th>\n",
       "      <td>-0.018904</td>\n",
       "      <td>0.155007</td>\n",
       "      <td>-0.130112</td>\n",
       "      <td>0.041868</td>\n",
       "      <td>0.019511</td>\n",
       "    </tr>\n",
       "    <tr>\n",
       "      <th>3</th>\n",
       "      <td>-0.000645</td>\n",
       "      <td>-0.018904</td>\n",
       "      <td>0.017703</td>\n",
       "      <td>0.155007</td>\n",
       "      <td>-0.130112</td>\n",
       "    </tr>\n",
       "    <tr>\n",
       "      <th>4</th>\n",
       "      <td>-0.011553</td>\n",
       "      <td>-0.000645</td>\n",
       "      <td>-0.141365</td>\n",
       "      <td>-0.018904</td>\n",
       "      <td>0.017703</td>\n",
       "    </tr>\n",
       "    <tr>\n",
       "      <th>...</th>\n",
       "      <td>...</td>\n",
       "      <td>...</td>\n",
       "      <td>...</td>\n",
       "      <td>...</td>\n",
       "      <td>...</td>\n",
       "    </tr>\n",
       "    <tr>\n",
       "      <th>995</th>\n",
       "      <td>0.304373</td>\n",
       "      <td>-0.057767</td>\n",
       "      <td>-0.167760</td>\n",
       "      <td>0.121630</td>\n",
       "      <td>-0.063248</td>\n",
       "    </tr>\n",
       "    <tr>\n",
       "      <th>996</th>\n",
       "      <td>0.128507</td>\n",
       "      <td>0.304373</td>\n",
       "      <td>0.218165</td>\n",
       "      <td>-0.057767</td>\n",
       "      <td>-0.167760</td>\n",
       "    </tr>\n",
       "    <tr>\n",
       "      <th>997</th>\n",
       "      <td>0.121329</td>\n",
       "      <td>0.128507</td>\n",
       "      <td>0.162642</td>\n",
       "      <td>0.304373</td>\n",
       "      <td>0.218165</td>\n",
       "    </tr>\n",
       "    <tr>\n",
       "      <th>998</th>\n",
       "      <td>-0.177914</td>\n",
       "      <td>0.121329</td>\n",
       "      <td>-0.014950</td>\n",
       "      <td>0.128507</td>\n",
       "      <td>0.162642</td>\n",
       "    </tr>\n",
       "    <tr>\n",
       "      <th>999</th>\n",
       "      <td>0.201162</td>\n",
       "      <td>-0.177914</td>\n",
       "      <td>-0.020050</td>\n",
       "      <td>0.121329</td>\n",
       "      <td>-0.014950</td>\n",
       "    </tr>\n",
       "  </tbody>\n",
       "</table>\n",
       "<p>1000 rows × 5 columns</p>\n",
       "</div>"
      ],
      "text/plain": [
       "            y       y-1       e-1       y-2       e-2\n",
       "0    0.041868  0.088594 -0.003596 -0.001430 -0.042699\n",
       "1    0.155007  0.041868  0.019511  0.088594 -0.003596\n",
       "2   -0.018904  0.155007 -0.130112  0.041868  0.019511\n",
       "3   -0.000645 -0.018904  0.017703  0.155007 -0.130112\n",
       "4   -0.011553 -0.000645 -0.141365 -0.018904  0.017703\n",
       "..        ...       ...       ...       ...       ...\n",
       "995  0.304373 -0.057767 -0.167760  0.121630 -0.063248\n",
       "996  0.128507  0.304373  0.218165 -0.057767 -0.167760\n",
       "997  0.121329  0.128507  0.162642  0.304373  0.218165\n",
       "998 -0.177914  0.121329 -0.014950  0.128507  0.162642\n",
       "999  0.201162 -0.177914 -0.020050  0.121329 -0.014950\n",
       "\n",
       "[1000 rows x 5 columns]"
      ]
     },
     "execution_count": 3,
     "metadata": {},
     "output_type": "execute_result"
    }
   ],
   "source": [
    "df"
   ]
  },
  {
   "cell_type": "code",
   "execution_count": 4,
   "metadata": {},
   "outputs": [],
   "source": [
    "y = df.loc[:,\"y\"]\n",
    "X = df.iloc[:,1:]\n"
   ]
  },
  {
   "cell_type": "code",
   "execution_count": 5,
   "metadata": {},
   "outputs": [],
   "source": [
    "X_train, X_test = X.iloc[:900], X.iloc[900:]\n",
    "y_train, y_test = y.iloc[:900], y.iloc[900:]"
   ]
  },
  {
   "cell_type": "code",
   "execution_count": 41,
   "metadata": {},
   "outputs": [
    {
     "data": {
      "text/plain": [
       "DecisionTreeRegressor(random_state=0)"
      ]
     },
     "execution_count": 41,
     "metadata": {},
     "output_type": "execute_result"
    }
   ],
   "source": [
    "regressor = DecisionTreeRegressor(random_state = 0) \n",
    "regressor.fit(X_train, y_train)"
   ]
  },
  {
   "cell_type": "code",
   "execution_count": 42,
   "metadata": {},
   "outputs": [],
   "source": [
    "pred = regressor.predict(X_test)"
   ]
  },
  {
   "cell_type": "code",
   "execution_count": 43,
   "metadata": {},
   "outputs": [
    {
     "name": "stdout",
     "output_type": "stream",
     "text": [
      "Model: Hard Decision Tree + AR + MA \n",
      "MSE: \n",
      "0.031350905935550843\n",
      "Model: Hard Decision Tree +AR + MA \n",
      "MAE: \n",
      "0.13312616819471132\n"
     ]
    }
   ],
   "source": [
    "y_test_np = y_test.to_numpy()\n",
    "print(\"Model: Hard Decision Tree + AR + MA \\nMSE: \")\n",
    "print(mse(y_test_np,pred))\n",
    "\n",
    "\n",
    "print(\"Model: Hard Decision Tree +AR + MA \\nMAE: \")\n",
    "print(mae(y_test_np,pred))"
   ]
  },
  {
   "cell_type": "code",
   "execution_count": 24,
   "metadata": {},
   "outputs": [],
   "source": [
    "X_train2,X_test2 = X_train.loc[:,[\"y-1\",\"y-2\"]],X_test.loc[:,[\"y-1\",\"y-2\"]]\n"
   ]
  },
  {
   "cell_type": "code",
   "execution_count": 26,
   "metadata": {},
   "outputs": [
    {
     "data": {
      "text/plain": [
       "DecisionTreeRegressor(random_state=0)"
      ]
     },
     "execution_count": 26,
     "metadata": {},
     "output_type": "execute_result"
    }
   ],
   "source": [
    "regressor2 = DecisionTreeRegressor(random_state = 0) \n",
    "regressor2.fit(X_train2, y_train)"
   ]
  },
  {
   "cell_type": "code",
   "execution_count": 28,
   "metadata": {},
   "outputs": [],
   "source": [
    "pred2 = regressor2.predict(X_test2)"
   ]
  },
  {
   "cell_type": "code",
   "execution_count": 30,
   "metadata": {},
   "outputs": [
    {
     "name": "stdout",
     "output_type": "stream",
     "text": [
      "Model: Hard Decision Tree + AR  \n",
      "MSE: \n",
      "0.03721200142237993\n",
      "Model: Hard Decision Tree + AR  \n",
      "MAE: \n",
      "0.15063688313810883\n"
     ]
    }
   ],
   "source": [
    "\n",
    "print(\"Model: Hard Decision Tree + AR  \\nMSE: \")\n",
    "print(mse(y_test_np,pred2))\n",
    "\n",
    "\n",
    "print(\"Model: Hard Decision Tree + AR  \\nMAE: \")\n",
    "print(mae(y_test_np,pred2))"
   ]
  },
  {
   "attachments": {},
   "cell_type": "markdown",
   "metadata": {},
   "source": [
    "ARMA ARIMA"
   ]
  },
  {
   "cell_type": "code",
   "execution_count": 73,
   "metadata": {},
   "outputs": [],
   "source": [
    "value = df[\"y\"]\n",
    "train_value = value.iloc[:900]\n",
    "test_value = value.iloc[900:]"
   ]
  },
  {
   "cell_type": "code",
   "execution_count": 74,
   "metadata": {},
   "outputs": [
    {
     "name": "stdout",
     "output_type": "stream",
     "text": [
      "                               SARIMAX Results                                \n",
      "==============================================================================\n",
      "Dep. Variable:                      y   No. Observations:                  900\n",
      "Model:                 ARIMA(2, 0, 2)   Log Likelihood                 464.020\n",
      "Date:                Wed, 15 Feb 2023   AIC                           -916.041\n",
      "Time:                        12:56:27   BIC                           -887.226\n",
      "Sample:                             0   HQIC                          -905.033\n",
      "                                - 900                                         \n",
      "Covariance Type:                  opg                                         \n",
      "==============================================================================\n",
      "                 coef    std err          z      P>|z|      [0.025      0.975]\n",
      "------------------------------------------------------------------------------\n",
      "const          0.0111      0.004      3.130      0.002       0.004       0.018\n",
      "ar.L1         -0.2962      0.188     -1.577      0.115      -0.664       0.072\n",
      "ar.L2          0.0126      0.164      0.077      0.939      -0.309       0.334\n",
      "ma.L1          0.1583      0.182      0.869      0.385      -0.199       0.515\n",
      "ma.L2         -0.2186      0.170     -1.285      0.199      -0.552       0.115\n",
      "sigma2         0.0209      0.001     22.227      0.000       0.019       0.023\n",
      "===================================================================================\n",
      "Ljung-Box (L1) (Q):                   0.00   Jarque-Bera (JB):                 2.39\n",
      "Prob(Q):                              1.00   Prob(JB):                         0.30\n",
      "Heteroskedasticity (H):               0.96   Skew:                             0.04\n",
      "Prob(H) (two-sided):                  0.76   Kurtosis:                         3.24\n",
      "===================================================================================\n",
      "\n",
      "Warnings:\n",
      "[1] Covariance matrix calculated using the outer product of gradients (complex-step).\n"
     ]
    }
   ],
   "source": [
    "from statsmodels.tsa.arima.model  import ARIMA\n",
    "\n",
    "arima_model = ARIMA(train_value,order=(2,0,2))\n",
    "model = arima_model.fit()\n",
    "print(model.summary())"
   ]
  },
  {
   "cell_type": "code",
   "execution_count": 75,
   "metadata": {},
   "outputs": [],
   "source": [
    "start_index = len(train_value)\n",
    "end_index = start_index + 99"
   ]
  },
  {
   "cell_type": "code",
   "execution_count": 76,
   "metadata": {},
   "outputs": [],
   "source": [
    "forecast = model.predict(start=start_index, end=end_index)"
   ]
  },
  {
   "cell_type": "code",
   "execution_count": 77,
   "metadata": {},
   "outputs": [
    {
     "data": {
      "text/plain": [
       "900    0.038192\n",
       "901   -0.007592\n",
       "902    0.017008\n",
       "903    0.009145\n",
       "904    0.011784\n",
       "         ...   \n",
       "995    0.011124\n",
       "996    0.011124\n",
       "997    0.011124\n",
       "998    0.011124\n",
       "999    0.011124\n",
       "Name: predicted_mean, Length: 100, dtype: float64"
      ]
     },
     "execution_count": 77,
     "metadata": {},
     "output_type": "execute_result"
    }
   ],
   "source": [
    "forecast"
   ]
  },
  {
   "cell_type": "code",
   "execution_count": 78,
   "metadata": {},
   "outputs": [
    {
     "name": "stdout",
     "output_type": "stream",
     "text": [
      "Model: ARMA(2,2)  \n",
      "MSE: \n",
      "0.02834712884201277\n",
      "Model: ARMA (2,2)  \n",
      "MAE: \n",
      "0.14310430479992933\n"
     ]
    }
   ],
   "source": [
    "\n",
    "print(\"Model: ARMA(2,2)  \\nMSE: \")\n",
    "print(mse(test_value,forecast))\n",
    "\n",
    "\n",
    "print(\"Model: ARMA (2,2)  \\nMAE: \")\n",
    "print(mae(test_value,forecast))"
   ]
  },
  {
   "cell_type": "code",
   "execution_count": 79,
   "metadata": {},
   "outputs": [
    {
     "name": "stdout",
     "output_type": "stream",
     "text": [
      "                               SARIMAX Results                                \n",
      "==============================================================================\n",
      "Dep. Variable:                      y   No. Observations:                  900\n",
      "Model:                 ARIMA(2, 1, 2)   Log Likelihood                 459.179\n",
      "Date:                Wed, 15 Feb 2023   AIC                           -908.358\n",
      "Time:                        12:57:19   BIC                           -884.352\n",
      "Sample:                             0   HQIC                          -899.187\n",
      "                                - 900                                         \n",
      "Covariance Type:                  opg                                         \n",
      "==============================================================================\n",
      "                 coef    std err          z      P>|z|      [0.025      0.975]\n",
      "------------------------------------------------------------------------------\n",
      "ar.L1          0.0216      0.178      0.121      0.903      -0.327       0.370\n",
      "ar.L2         -0.1634      0.040     -4.130      0.000      -0.241      -0.086\n",
      "ma.L1         -1.1598      0.178     -6.500      0.000      -1.510      -0.810\n",
      "ma.L2          0.1703      0.177      0.961      0.336      -0.177       0.518\n",
      "sigma2         0.0210      0.001     22.075      0.000       0.019       0.023\n",
      "===================================================================================\n",
      "Ljung-Box (L1) (Q):                   0.00   Jarque-Bera (JB):                 1.70\n",
      "Prob(Q):                              0.97   Prob(JB):                         0.43\n",
      "Heteroskedasticity (H):               0.99   Skew:                             0.01\n",
      "Prob(H) (two-sided):                  0.93   Kurtosis:                         3.21\n",
      "===================================================================================\n",
      "\n",
      "Warnings:\n",
      "[1] Covariance matrix calculated using the outer product of gradients (complex-step).\n"
     ]
    }
   ],
   "source": [
    "arima_model = ARIMA(train_value,order=(2,1,2))\n",
    "model = arima_model.fit()\n",
    "print(model.summary())"
   ]
  },
  {
   "cell_type": "code",
   "execution_count": 80,
   "metadata": {},
   "outputs": [],
   "source": [
    "start_index = len(train_value)\n",
    "end_index = start_index + 99"
   ]
  },
  {
   "cell_type": "code",
   "execution_count": 81,
   "metadata": {},
   "outputs": [],
   "source": [
    "forecast = model.predict(start=start_index, end=end_index)"
   ]
  },
  {
   "cell_type": "code",
   "execution_count": 83,
   "metadata": {},
   "outputs": [
    {
     "name": "stdout",
     "output_type": "stream",
     "text": [
      "Model: ARIMA(2,1,2)  \n",
      "MSE: \n",
      "0.02856160287134276\n",
      "Model: ARIMA (2,1,2)  \n",
      "MAE: \n",
      "0.14365033546146788\n"
     ]
    }
   ],
   "source": [
    "\n",
    "print(\"Model: ARIMA(2,1,2)  \\nMSE: \")\n",
    "print(mse(test_value,forecast))\n",
    "\n",
    "\n",
    "print(\"Model: ARIMA (2,1,2)  \\nMAE: \")\n",
    "print(mae(test_value,forecast))"
   ]
  },
  {
   "attachments": {},
   "cell_type": "markdown",
   "metadata": {},
   "source": [
    "MODEL: Soft Decision Tree + AR + MA:\n",
    "\n",
    "    test mse 0.02160605601966381\n",
    "\n",
    "    test mae 0.11647909879684448"
   ]
  },
  {
   "cell_type": "code",
   "execution_count": null,
   "metadata": {},
   "outputs": [],
   "source": [
    "from sklearn.neural_network import MLPRegressor"
   ]
  },
  {
   "cell_type": "code",
   "execution_count": null,
   "metadata": {},
   "outputs": [],
   "source": [
    "regr = MLPRegressor(random_state=1, max_iter=500).fit(X_train, y_train)\n",
    "regr.predict(X_test[:2])"
   ]
  }
 ],
 "metadata": {
  "kernelspec": {
   "display_name": "Python 3",
   "language": "python",
   "name": "python3"
  },
  "language_info": {
   "codemirror_mode": {
    "name": "ipython",
    "version": 3
   },
   "file_extension": ".py",
   "mimetype": "text/x-python",
   "name": "python",
   "nbconvert_exporter": "python",
   "pygments_lexer": "ipython3",
   "version": "3.9.4"
  },
  "orig_nbformat": 4,
  "vscode": {
   "interpreter": {
    "hash": "7573df025923be38947a4699923c7a6d4093ad44f3cf314b87d19677c230161d"
   }
  }
 },
 "nbformat": 4,
 "nbformat_minor": 2
}
