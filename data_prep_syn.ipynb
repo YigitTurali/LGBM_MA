{
 "cells": [
  {
   "cell_type": "code",
   "execution_count": 1,
   "metadata": {},
   "outputs": [],
   "source": [
    "import numpy as np\n",
    "import pandas as pd"
   ]
  },
  {
   "cell_type": "code",
   "execution_count": 2,
   "metadata": {},
   "outputs": [],
   "source": [
    "df = pd.read_csv(\"Dataset/syntetic/1001.csv\")\n",
    "df = df.drop(\"Unnamed: 0\",axis=1)"
   ]
  },
  {
   "cell_type": "code",
   "execution_count": 5,
   "metadata": {},
   "outputs": [],
   "source": [
    "df[\"y-1\"] = df[\"y\"].shift(1)\n",
    "df[\"e-1\"] = df[\"e\"].shift(1)\n",
    "df[\"y-2\"] = df[\"y\"].shift(2)\n",
    "df[\"e-2\"] = df[\"e\"].shift(2)"
   ]
  },
  {
   "cell_type": "code",
   "execution_count": 6,
   "metadata": {},
   "outputs": [
    {
     "data": {
      "text/html": [
       "<div>\n",
       "<style scoped>\n",
       "    .dataframe tbody tr th:only-of-type {\n",
       "        vertical-align: middle;\n",
       "    }\n",
       "\n",
       "    .dataframe tbody tr th {\n",
       "        vertical-align: top;\n",
       "    }\n",
       "\n",
       "    .dataframe thead th {\n",
       "        text-align: right;\n",
       "    }\n",
       "</style>\n",
       "<table border=\"1\" class=\"dataframe\">\n",
       "  <thead>\n",
       "    <tr style=\"text-align: right;\">\n",
       "      <th></th>\n",
       "      <th>y</th>\n",
       "      <th>e</th>\n",
       "      <th>y-1</th>\n",
       "      <th>e-1</th>\n",
       "      <th>y-2</th>\n",
       "      <th>e-2</th>\n",
       "    </tr>\n",
       "  </thead>\n",
       "  <tbody>\n",
       "    <tr>\n",
       "      <th>0</th>\n",
       "      <td>-0.032056</td>\n",
       "      <td>-0.128565</td>\n",
       "      <td>NaN</td>\n",
       "      <td>NaN</td>\n",
       "      <td>NaN</td>\n",
       "      <td>NaN</td>\n",
       "    </tr>\n",
       "    <tr>\n",
       "      <th>1</th>\n",
       "      <td>-0.049872</td>\n",
       "      <td>-0.134009</td>\n",
       "      <td>-0.032056</td>\n",
       "      <td>-0.128565</td>\n",
       "      <td>NaN</td>\n",
       "      <td>NaN</td>\n",
       "    </tr>\n",
       "    <tr>\n",
       "      <th>2</th>\n",
       "      <td>0.338445</td>\n",
       "      <td>0.007136</td>\n",
       "      <td>-0.049872</td>\n",
       "      <td>-0.134009</td>\n",
       "      <td>-0.032056</td>\n",
       "      <td>-0.128565</td>\n",
       "    </tr>\n",
       "    <tr>\n",
       "      <th>3</th>\n",
       "      <td>0.062147</td>\n",
       "      <td>-0.156593</td>\n",
       "      <td>0.338445</td>\n",
       "      <td>0.007136</td>\n",
       "      <td>-0.049872</td>\n",
       "      <td>-0.134009</td>\n",
       "    </tr>\n",
       "    <tr>\n",
       "      <th>4</th>\n",
       "      <td>-0.166463</td>\n",
       "      <td>-0.117065</td>\n",
       "      <td>0.062147</td>\n",
       "      <td>-0.156593</td>\n",
       "      <td>0.338445</td>\n",
       "      <td>0.007136</td>\n",
       "    </tr>\n",
       "    <tr>\n",
       "      <th>...</th>\n",
       "      <td>...</td>\n",
       "      <td>...</td>\n",
       "      <td>...</td>\n",
       "      <td>...</td>\n",
       "      <td>...</td>\n",
       "      <td>...</td>\n",
       "    </tr>\n",
       "    <tr>\n",
       "      <th>1195</th>\n",
       "      <td>0.304373</td>\n",
       "      <td>0.218165</td>\n",
       "      <td>-0.057767</td>\n",
       "      <td>-0.167760</td>\n",
       "      <td>0.121630</td>\n",
       "      <td>-0.063248</td>\n",
       "    </tr>\n",
       "    <tr>\n",
       "      <th>1196</th>\n",
       "      <td>0.128507</td>\n",
       "      <td>0.162642</td>\n",
       "      <td>0.304373</td>\n",
       "      <td>0.218165</td>\n",
       "      <td>-0.057767</td>\n",
       "      <td>-0.167760</td>\n",
       "    </tr>\n",
       "    <tr>\n",
       "      <th>1197</th>\n",
       "      <td>0.121329</td>\n",
       "      <td>-0.014950</td>\n",
       "      <td>0.128507</td>\n",
       "      <td>0.162642</td>\n",
       "      <td>0.304373</td>\n",
       "      <td>0.218165</td>\n",
       "    </tr>\n",
       "    <tr>\n",
       "      <th>1198</th>\n",
       "      <td>-0.177914</td>\n",
       "      <td>-0.020050</td>\n",
       "      <td>0.121329</td>\n",
       "      <td>-0.014950</td>\n",
       "      <td>0.128507</td>\n",
       "      <td>0.162642</td>\n",
       "    </tr>\n",
       "    <tr>\n",
       "      <th>1199</th>\n",
       "      <td>0.201162</td>\n",
       "      <td>-0.034763</td>\n",
       "      <td>-0.177914</td>\n",
       "      <td>-0.020050</td>\n",
       "      <td>0.121329</td>\n",
       "      <td>-0.014950</td>\n",
       "    </tr>\n",
       "  </tbody>\n",
       "</table>\n",
       "<p>1200 rows × 6 columns</p>\n",
       "</div>"
      ],
      "text/plain": [
       "             y         e       y-1       e-1       y-2       e-2\n",
       "0    -0.032056 -0.128565       NaN       NaN       NaN       NaN\n",
       "1    -0.049872 -0.134009 -0.032056 -0.128565       NaN       NaN\n",
       "2     0.338445  0.007136 -0.049872 -0.134009 -0.032056 -0.128565\n",
       "3     0.062147 -0.156593  0.338445  0.007136 -0.049872 -0.134009\n",
       "4    -0.166463 -0.117065  0.062147 -0.156593  0.338445  0.007136\n",
       "...        ...       ...       ...       ...       ...       ...\n",
       "1195  0.304373  0.218165 -0.057767 -0.167760  0.121630 -0.063248\n",
       "1196  0.128507  0.162642  0.304373  0.218165 -0.057767 -0.167760\n",
       "1197  0.121329 -0.014950  0.128507  0.162642  0.304373  0.218165\n",
       "1198 -0.177914 -0.020050  0.121329 -0.014950  0.128507  0.162642\n",
       "1199  0.201162 -0.034763 -0.177914 -0.020050  0.121329 -0.014950\n",
       "\n",
       "[1200 rows x 6 columns]"
      ]
     },
     "execution_count": 6,
     "metadata": {},
     "output_type": "execute_result"
    }
   ],
   "source": [
    "df"
   ]
  },
  {
   "cell_type": "code",
   "execution_count": 7,
   "metadata": {},
   "outputs": [],
   "source": [
    "df = df.iloc[200:]"
   ]
  },
  {
   "cell_type": "code",
   "execution_count": 8,
   "metadata": {},
   "outputs": [],
   "source": [
    "df.index = np.arange(len(df))"
   ]
  },
  {
   "cell_type": "code",
   "execution_count": 9,
   "metadata": {},
   "outputs": [],
   "source": [
    "df = df.drop(\"e\",axis=1)"
   ]
  },
  {
   "cell_type": "code",
   "execution_count": 10,
   "metadata": {},
   "outputs": [
    {
     "data": {
      "text/html": [
       "<div>\n",
       "<style scoped>\n",
       "    .dataframe tbody tr th:only-of-type {\n",
       "        vertical-align: middle;\n",
       "    }\n",
       "\n",
       "    .dataframe tbody tr th {\n",
       "        vertical-align: top;\n",
       "    }\n",
       "\n",
       "    .dataframe thead th {\n",
       "        text-align: right;\n",
       "    }\n",
       "</style>\n",
       "<table border=\"1\" class=\"dataframe\">\n",
       "  <thead>\n",
       "    <tr style=\"text-align: right;\">\n",
       "      <th></th>\n",
       "      <th>y</th>\n",
       "      <th>y-1</th>\n",
       "      <th>e-1</th>\n",
       "      <th>y-2</th>\n",
       "      <th>e-2</th>\n",
       "    </tr>\n",
       "  </thead>\n",
       "  <tbody>\n",
       "    <tr>\n",
       "      <th>0</th>\n",
       "      <td>0.041868</td>\n",
       "      <td>0.088594</td>\n",
       "      <td>-0.003596</td>\n",
       "      <td>-0.001430</td>\n",
       "      <td>-0.042699</td>\n",
       "    </tr>\n",
       "    <tr>\n",
       "      <th>1</th>\n",
       "      <td>0.155007</td>\n",
       "      <td>0.041868</td>\n",
       "      <td>0.019511</td>\n",
       "      <td>0.088594</td>\n",
       "      <td>-0.003596</td>\n",
       "    </tr>\n",
       "    <tr>\n",
       "      <th>2</th>\n",
       "      <td>-0.018904</td>\n",
       "      <td>0.155007</td>\n",
       "      <td>-0.130112</td>\n",
       "      <td>0.041868</td>\n",
       "      <td>0.019511</td>\n",
       "    </tr>\n",
       "    <tr>\n",
       "      <th>3</th>\n",
       "      <td>-0.000645</td>\n",
       "      <td>-0.018904</td>\n",
       "      <td>0.017703</td>\n",
       "      <td>0.155007</td>\n",
       "      <td>-0.130112</td>\n",
       "    </tr>\n",
       "    <tr>\n",
       "      <th>4</th>\n",
       "      <td>-0.011553</td>\n",
       "      <td>-0.000645</td>\n",
       "      <td>-0.141365</td>\n",
       "      <td>-0.018904</td>\n",
       "      <td>0.017703</td>\n",
       "    </tr>\n",
       "    <tr>\n",
       "      <th>...</th>\n",
       "      <td>...</td>\n",
       "      <td>...</td>\n",
       "      <td>...</td>\n",
       "      <td>...</td>\n",
       "      <td>...</td>\n",
       "    </tr>\n",
       "    <tr>\n",
       "      <th>995</th>\n",
       "      <td>0.304373</td>\n",
       "      <td>-0.057767</td>\n",
       "      <td>-0.167760</td>\n",
       "      <td>0.121630</td>\n",
       "      <td>-0.063248</td>\n",
       "    </tr>\n",
       "    <tr>\n",
       "      <th>996</th>\n",
       "      <td>0.128507</td>\n",
       "      <td>0.304373</td>\n",
       "      <td>0.218165</td>\n",
       "      <td>-0.057767</td>\n",
       "      <td>-0.167760</td>\n",
       "    </tr>\n",
       "    <tr>\n",
       "      <th>997</th>\n",
       "      <td>0.121329</td>\n",
       "      <td>0.128507</td>\n",
       "      <td>0.162642</td>\n",
       "      <td>0.304373</td>\n",
       "      <td>0.218165</td>\n",
       "    </tr>\n",
       "    <tr>\n",
       "      <th>998</th>\n",
       "      <td>-0.177914</td>\n",
       "      <td>0.121329</td>\n",
       "      <td>-0.014950</td>\n",
       "      <td>0.128507</td>\n",
       "      <td>0.162642</td>\n",
       "    </tr>\n",
       "    <tr>\n",
       "      <th>999</th>\n",
       "      <td>0.201162</td>\n",
       "      <td>-0.177914</td>\n",
       "      <td>-0.020050</td>\n",
       "      <td>0.121329</td>\n",
       "      <td>-0.014950</td>\n",
       "    </tr>\n",
       "  </tbody>\n",
       "</table>\n",
       "<p>1000 rows × 5 columns</p>\n",
       "</div>"
      ],
      "text/plain": [
       "            y       y-1       e-1       y-2       e-2\n",
       "0    0.041868  0.088594 -0.003596 -0.001430 -0.042699\n",
       "1    0.155007  0.041868  0.019511  0.088594 -0.003596\n",
       "2   -0.018904  0.155007 -0.130112  0.041868  0.019511\n",
       "3   -0.000645 -0.018904  0.017703  0.155007 -0.130112\n",
       "4   -0.011553 -0.000645 -0.141365 -0.018904  0.017703\n",
       "..        ...       ...       ...       ...       ...\n",
       "995  0.304373 -0.057767 -0.167760  0.121630 -0.063248\n",
       "996  0.128507  0.304373  0.218165 -0.057767 -0.167760\n",
       "997  0.121329  0.128507  0.162642  0.304373  0.218165\n",
       "998 -0.177914  0.121329 -0.014950  0.128507  0.162642\n",
       "999  0.201162 -0.177914 -0.020050  0.121329 -0.014950\n",
       "\n",
       "[1000 rows x 5 columns]"
      ]
     },
     "execution_count": 10,
     "metadata": {},
     "output_type": "execute_result"
    }
   ],
   "source": [
    "df"
   ]
  },
  {
   "cell_type": "code",
   "execution_count": 11,
   "metadata": {},
   "outputs": [],
   "source": [
    "df.to_csv(\"Dataset/syntetic/last.csv\")"
   ]
  },
  {
   "cell_type": "code",
   "execution_count": 15,
   "metadata": {},
   "outputs": [],
   "source": [
    "y = df.loc[:,\"y\"]\n",
    "X = df.iloc[:,1:]"
   ]
  },
  {
   "cell_type": "code",
   "execution_count": 19,
   "metadata": {},
   "outputs": [],
   "source": [
    "X_train, X_test = X.iloc[:900], X.iloc[900:]\n",
    "y_train, y_test = y.iloc[:900], y.iloc[900:]"
   ]
  },
  {
   "cell_type": "code",
   "execution_count": 38,
   "metadata": {},
   "outputs": [
    {
     "data": {
      "text/plain": [
       "DecisionTreeRegressor(random_state=0)"
      ]
     },
     "execution_count": 38,
     "metadata": {},
     "output_type": "execute_result"
    }
   ],
   "source": [
    "# import the regressor\n",
    "from sklearn.tree import DecisionTreeRegressor \n",
    "regressor = DecisionTreeRegressor(random_state = 0) \n",
    "regressor.fit(X_train, y_train)"
   ]
  },
  {
   "cell_type": "code",
   "execution_count": 39,
   "metadata": {},
   "outputs": [],
   "source": [
    "prep = regressor.predict(X_test)"
   ]
  },
  {
   "cell_type": "code",
   "execution_count": 41,
   "metadata": {},
   "outputs": [],
   "source": [
    "from sklearn.metrics import mean_squared_error as mse"
   ]
  },
  {
   "cell_type": "code",
   "execution_count": 42,
   "metadata": {},
   "outputs": [],
   "source": [
    "y_test = y_test.to_numpy()"
   ]
  },
  {
   "cell_type": "code",
   "execution_count": 44,
   "metadata": {},
   "outputs": [
    {
     "data": {
      "text/plain": [
       "0.031350905935550843"
      ]
     },
     "execution_count": 44,
     "metadata": {},
     "output_type": "execute_result"
    }
   ],
   "source": [
    "mse(y_test,prep)"
   ]
  },
  {
   "cell_type": "code",
   "execution_count": null,
   "metadata": {},
   "outputs": [],
   "source": []
  }
 ],
 "metadata": {
  "kernelspec": {
   "display_name": "Python 3",
   "language": "python",
   "name": "python3"
  },
  "language_info": {
   "codemirror_mode": {
    "name": "ipython",
    "version": 3
   },
   "file_extension": ".py",
   "mimetype": "text/x-python",
   "name": "python",
   "nbconvert_exporter": "python",
   "pygments_lexer": "ipython3",
   "version": "3.9.4"
  },
  "orig_nbformat": 4,
  "vscode": {
   "interpreter": {
    "hash": "7573df025923be38947a4699923c7a6d4093ad44f3cf314b87d19677c230161d"
   }
  }
 },
 "nbformat": 4,
 "nbformat_minor": 2
}
